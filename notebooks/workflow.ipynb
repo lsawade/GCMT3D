{
 "cells": [
  {
   "cell_type": "code",
   "execution_count": null,
   "metadata": {},
   "outputs": [],
   "source": []
  },
  {
   "cell_type": "markdown",
   "metadata": {},
   "source": [
    "# Global Centroid Moment Tensor 3D (GCMT3D)\n",
    "\n",
    "## The workflow\n",
    "\n",
    "Make sure you are in the right virtual environment.\n",
    "\n",
    "### Preparing Specfem3d_globe\n",
    "\n",
    "Before we create or add an earthquake to the database, the `Par_file` \n",
    "that sets all parameters for specfem needs to be set. Meaning that the \n",
    "All parameters, such as resolution, length of simulation, computational \n",
    "setup, etc., need to configured within the parameter file so that we can \n",
    "request the right number resources ono the fly. This is done using the `DATA\n",
    "fixer` class. After the `DATAFixer` class has modified the Par_file. It can be\n",
    "called to run the mesher. Note that for the following steps `specfem3d_globe`\n",
    "already has to be compiled."
   ]
  },
  {
   "cell_type": "code",
   "execution_count": 1,
   "metadata": {},
   "outputs": [],
   "source": [
    "from gcmt3d.runSF3D.runSF3D import DATAFixer\n",
    "import os\n",
    "\n",
    "SPECFEM_DIR = \"/scratch/gpfs/lsawade/specfem_tutorial/specfem3d_globe\"\n",
    "\n",
    "# Set MPI Parameters\n",
    "NEX_XI = 128\n",
    "NEX_ETA = 128\n",
    "NPROC_XI = 2\n",
    "NPROC_ETA = 2\n",
    "GPU_MODE = False\n",
    "ADIOS_ENABLED = False\n",
    "\n",
    "# Minimal Processing\n",
    "ROTATE_SEISMOGRAMS_RT = True\n",
    "RECORD_LENGTH = 60\n",
    "MODEL = \"s362ani\"\n",
    "\n",
    "# Output style\n",
    "WRITE_SEISMOGRAMS_BY_MASTER = True\n",
    "OUTPUT_SEISMOS_ASCII_TEXT = False\n",
    "OUTPUT_SEISMOS_SAC_ALPHANUM = False\n",
    "OUTPUT_SEISMOS_SAC_BINARY = True\n",
    "OUTPUT_SEISMOS_ASDF = False\n",
    "\n",
    "# Visualization\n",
    "MOVIE_SURFACE = False\n",
    "MOVIE_VOLUME = False\n",
    "MOVIE_COARSE = False\n",
    "\n",
    "# Computational Resources\n",
    "nodes = 1\n",
    "tasks = 24\n",
    "walltime = \"00:30:00\"\n",
    "# If solver is supposed to be used set these values. NOT the correct\n",
    "# solver wrapper for the CMT inversion.\n",
    "walltime_solver = None,\n",
    "nodes_solver = None,\n",
    "tasks_solver = None,\n",
    "\n",
    "# Verbose output\n",
    "verbose = True\n",
    "\n",
    "\n",
    "\n",
    "DF = DATAFixer(SPECFEM_DIR,\n",
    "               NEX_XI=NEX_XI, NEX_ETA=NEX_ETA, \n",
    "               NPROC_XI=NPROC_XI, NPROC_ETA=NPROC_ETA,\n",
    "               ROTATE_SEISMOGRAMS_RT=ROTATE_SEISMOGRAMS_RT,\n",
    "               RECORD_LENGTH=RECORD_LENGTH, MODEL=MODEL,\n",
    "               WRITE_SEISMOGRAMS_BY_MASTER=WRITE_SEISMOGRAMS_BY_MASTER,\n",
    "               OUTPUT_SEISMOS_ASCII_TEXT=OUTPUT_SEISMOS_ASCII_TEXT,\n",
    "               OUTPUT_SEISMOS_SAC_ALPHANUM=OUTPUT_SEISMOS_SAC_ALPHANUM,\n",
    "               OUTPUT_SEISMOS_SAC_BINARY=OUTPUT_SEISMOS_SAC_BINARY,\n",
    "               OUTPUT_SEISMOS_ASDF=OUTPUT_SEISMOS_ASDF,\n",
    "               MOVIE_SURFACE=MOVIE_SURFACE,\n",
    "               MOVIE_VOLUME=MOVIE_VOLUME,\n",
    "               MOVIE_COARSE=MOVIE_COARSE,\n",
    "               nodes=nodes, tasks=tasks, walltime=walltime,\n",
    "               nodes_solver=nodes_solver, tasks_solver=tasks_solver, walltime_solver=walltime_solver,\n",
    "               verbose=verbose)\n",
    "\n",
    "# Run `Par_file` fixer.\n",
    "DF.fix_parfiles()"
   ]
  },
  {
   "cell_type": "markdown",
   "metadata": {},
   "source": [
    "After the `Par_file` is fixed, we can run the mesher. The mesher \n",
    "only has to be run once if the only thing that changes are the \n",
    "sources and the receivers and the CMT Solution. In this case, \n",
    "it's only the CMT solution that changes. "
   ]
  },
  {
   "cell_type": "code",
   "execution_count": 2,
   "metadata": {},
   "outputs": [
    {
     "name": "stdout",
     "output_type": "stream",
     "text": [
      "sbatch -N 1 -n 24 -D /scratch/gpfs/lsawade/specfem_tutorial/specfem3d_globe -t 00:30:00 /scratch/gpfs/lsawade/GCMT3D/gcmt3d/runSF3D/batch/mesh.sbatch\n",
      "Command has been sent.\n",
      "Output:\n",
      " Submitted batch job 3093815\n",
      "\n",
      "Errors:\n",
      " \n"
     ]
    }
   ],
   "source": [
    "# Run the mesher to a slurm scheduler.\n",
    "DF.run_mesher()"
   ]
  },
  {
   "cell_type": "markdown",
   "metadata": {},
   "source": [
    "### Creating the Database Skeleton\n",
    "\n",
    "The `DatabaseSkeleton` `class` handles the setup of the database \n",
    "and creates new directories for new CMTs.\n",
    "\n",
    "```bash\n",
    "database\n",
    "├── eq_<eq_ID_1>\n",
    "│   ├── CMT_SIMs/\n",
    "squeue\n",
    "│   │   ├── CMT_depth/\n",
    "│   │   │    ├── DATA/\n",
    "│   │   │    ├── DATABASES_MPI/\n",
    "│   │   │    ├── OUTPUFILES/\n",
    "│   │   │    └── bin/        # symbolic link --> SPECFEM_DIR/bin/\n",
    "│   │   ├── CMT_lat/\n",
    "│   │   │    ├── DATA/\n",
    "│   │   │    :\n",
    "│   │   ├── CMT_lon/\n",
    "│   │   ├── CMT_pp/\n",
    "│   │   ├── CMT_rp/\n",
    "│   │   ├── CMT_rr/\n",
    "│   │   ├── CMT_rt/\n",
    "│   │   ├── CMT_tp/\n",
    "│   │   └── CMT_tt/\n",
    "│   ├── eq_9703873.cmt\n",
    "│   ├── station_data/\n",
    "│   ├── window_data/\n",
    "│   └── seismograms/\n",
    "│\n",
    "├── eq_<eq_ID_2>/\n",
    "│   ├── CMT_SIMs/\n",
    "│   :\n",
    "│\n",
    "├── eq_<eq_ID_3>/\n",
    ":\n",
    "\n",
    "```"
   ]
  },
  {
   "cell_type": "code",
   "execution_count": 1,
   "metadata": {},
   "outputs": [
    {
     "ename": "NameError",
     "evalue": "name 'SPECFEM_DIR' is not defined",
     "traceback": [
      "\u001b[0;31m---------------------------------------------------------------------------\u001b[0m",
      "\u001b[0;31mNameError\u001b[0m                                 Traceback (most recent call last)",
      "\u001b[0;32m<ipython-input-1-879fe5e200ce>\u001b[0m in \u001b[0;36m<module>\u001b[0;34m\u001b[0m\n\u001b[1;32m      8\u001b[0m \u001b[0;31m# Create Database skeleton class. Note that the specfem directory is not set\u001b[0m\u001b[0;34m\u001b[0m\u001b[0;34m\u001b[0m\u001b[0;34m\u001b[0m\u001b[0m\n\u001b[1;32m      9\u001b[0m \u001b[0;31m# because it is not available on every system.\u001b[0m\u001b[0;34m\u001b[0m\u001b[0;34m\u001b[0m\u001b[0;34m\u001b[0m\u001b[0m\n\u001b[0;32m---> 10\u001b[0;31m \u001b[0mDB\u001b[0m \u001b[0;34m=\u001b[0m \u001b[0mDataBaseSkeleton\u001b[0m\u001b[0;34m(\u001b[0m\u001b[0mbasedir\u001b[0m\u001b[0;34m=\u001b[0m\u001b[0mdatabasedir\u001b[0m\u001b[0;34m,\u001b[0m \u001b[0mcmt_fn\u001b[0m\u001b[0;34m=\u001b[0m\u001b[0mcmt_filename\u001b[0m\u001b[0;34m,\u001b[0m \u001b[0mspecfem_dir\u001b[0m\u001b[0;34m=\u001b[0m\u001b[0mSPECFEM_DIR\u001b[0m\u001b[0;34m,\u001b[0m \u001b[0mverbose\u001b[0m\u001b[0;34m=\u001b[0m\u001b[0;32mTrue\u001b[0m\u001b[0;34m,\u001b[0m \u001b[0moverwrite\u001b[0m\u001b[0;34m=\u001b[0m\u001b[0;32mFalse\u001b[0m\u001b[0;34m)\u001b[0m\u001b[0;34m\u001b[0m\u001b[0;34m\u001b[0m\u001b[0m\n\u001b[0m",
      "\u001b[0;31mNameError\u001b[0m: name 'SPECFEM_DIR' is not defined"
     ],
     "output_type": "error"
    }
   ],
   "source": [
    "from gcmt3d.data.management.skeleton import DataBaseSkeleton\n",
    "\n",
    "\n",
    "# Set database directory\n",
    "databasedir = \"../../test_sample_database\"\n",
    "cmt_filename = \"../../cmtgermany.cmt\"\n",
    "\n",
    "# Create Database skeleton class. Note that the specfem directory is not set\n",
    "# because it is not available on every system.\n",
    "DB = DataBaseSkeleton(basedir=databasedir, cmt_fn=cmt_filename, specfem_dir=SPECFEM_DIR, verbose=True, overwrite=False)"
   ]
  },
  {
   "cell_type": "code",
   "execution_count": 5,
   "metadata": {},
   "outputs": [
    {
     "name": "stdout",
     "output_type": "stream",
     "text": [
      "../../test_sample_database/eq_120504B exists already. Not overwritten.\n",
      "Earthquake file ../../test_sample_database/eq_120504B/eq_120504B.cmt exists already. It will NOT be overwritten.\n",
      "../../test_sample_database/eq_120504B/station_data exists already. Not overwritten.\n",
      "../../test_sample_database/eq_120504B/window_data exists already. Not overwritten.\n",
      "../../test_sample_database/eq_120504B/seismograms exists already. Not overwritten.\n",
      "../../test_sample_database/eq_120504B/CMT_SIMs exists already. Not overwritten.\n",
      "../../test_sample_database/eq_120504B/CMT_SIMs/CMT_rr exists already. Not overwritten.\n",
      "Directory ../../test_sample_database/eq_120504B/CMT_SIMs/CMT_rr/DATA exists already. It will NOT be overwritten.\n",
      "Directory ../../test_sample_database/eq_120504B/CMT_SIMs/CMT_rr/DATABASES_MPI exists already. It will NOT be overwritten.\n",
      "Directory ../../test_sample_database/eq_120504B/CMT_SIMs/CMT_rr/OUTPUT_FILES exists already. It will NOT be overwritten.\n",
      "../../test_sample_database/eq_120504B/CMT_SIMs/CMT_tt exists already. Not overwritten.\n",
      "Directory ../../test_sample_database/eq_120504B/CMT_SIMs/CMT_tt/DATA exists already. It will NOT be overwritten.\n",
      "Directory ../../test_sample_database/eq_120504B/CMT_SIMs/CMT_tt/DATABASES_MPI exists already. It will NOT be overwritten.\n",
      "Directory ../../test_sample_database/eq_120504B/CMT_SIMs/CMT_tt/OUTPUT_FILES exists already. It will NOT be overwritten.\n",
      "../../test_sample_database/eq_120504B/CMT_SIMs/CMT_pp exists already. Not overwritten.\n",
      "Directory ../../test_sample_database/eq_120504B/CMT_SIMs/CMT_pp/DATA exists already. It will NOT be overwritten.\n",
      "Directory ../../test_sample_database/eq_120504B/CMT_SIMs/CMT_pp/DATABASES_MPI exists already. It will NOT be overwritten.\n",
      "Directory ../../test_sample_database/eq_120504B/CMT_SIMs/CMT_pp/OUTPUT_FILES exists already. It will NOT be overwritten.\n",
      "../../test_sample_database/eq_120504B/CMT_SIMs/CMT_rt exists already. Not overwritten.\n",
      "Directory ../../test_sample_database/eq_120504B/CMT_SIMs/CMT_rt/DATA exists already. It will NOT be overwritten.\n",
      "Directory ../../test_sample_database/eq_120504B/CMT_SIMs/CMT_rt/DATABASES_MPI exists already. It will NOT be overwritten.\n",
      "Directory ../../test_sample_database/eq_120504B/CMT_SIMs/CMT_rt/OUTPUT_FILES exists already. It will NOT be overwritten.\n",
      "../../test_sample_database/eq_120504B/CMT_SIMs/CMT_rp exists already. Not overwritten.\n",
      "Directory ../../test_sample_database/eq_120504B/CMT_SIMs/CMT_rp/DATA exists already. It will NOT be overwritten.\n",
      "Directory ../../test_sample_database/eq_120504B/CMT_SIMs/CMT_rp/DATABASES_MPI exists already. It will NOT be overwritten.\n",
      "Directory ../../test_sample_database/eq_120504B/CMT_SIMs/CMT_rp/OUTPUT_FILES exists already. It will NOT be overwritten.\n",
      "../../test_sample_database/eq_120504B/CMT_SIMs/CMT_tp exists already. Not overwritten.\n",
      "Directory ../../test_sample_database/eq_120504B/CMT_SIMs/CMT_tp/DATA exists already. It will NOT be overwritten.\n",
      "Directory ../../test_sample_database/eq_120504B/CMT_SIMs/CMT_tp/DATABASES_MPI exists already. It will NOT be overwritten.\n",
      "Directory ../../test_sample_database/eq_120504B/CMT_SIMs/CMT_tp/OUTPUT_FILES exists already. It will NOT be overwritten.\n",
      "../../test_sample_database/eq_120504B/CMT_SIMs/CMT_depth exists already. Not overwritten.\n",
      "Directory ../../test_sample_database/eq_120504B/CMT_SIMs/CMT_depth/DATA exists already. It will NOT be overwritten.\n",
      "Directory ../../test_sample_database/eq_120504B/CMT_SIMs/CMT_depth/DATABASES_MPI exists already. It will NOT be overwritten.\n",
      "Directory ../../test_sample_database/eq_120504B/CMT_SIMs/CMT_depth/OUTPUT_FILES exists already. It will NOT be overwritten.\n",
      "../../test_sample_database/eq_120504B/CMT_SIMs/CMT_lat exists already. Not overwritten.\n",
      "Directory ../../test_sample_database/eq_120504B/CMT_SIMs/CMT_lat/DATA exists already. It will NOT be overwritten.\n",
      "Directory ../../test_sample_database/eq_120504B/CMT_SIMs/CMT_lat/DATABASES_MPI exists already. It will NOT be overwritten.\n",
      "Directory ../../test_sample_database/eq_120504B/CMT_SIMs/CMT_lat/OUTPUT_FILES exists already. It will NOT be overwritten.\n",
      "../../test_sample_database/eq_120504B/CMT_SIMs/CMT_lon exists already. Not overwritten.\n",
      "Directory ../../test_sample_database/eq_120504B/CMT_SIMs/CMT_lon/DATA exists already. It will NOT be overwritten.\n",
      "Directory ../../test_sample_database/eq_120504B/CMT_SIMs/CMT_lon/DATABASES_MPI exists already. It will NOT be overwritten.\n",
      "Directory ../../test_sample_database/eq_120504B/CMT_SIMs/CMT_lon/OUTPUT_FILES exists already. It will NOT be overwritten.\n"
     ]
    }
   ],
   "source": [
    "# Create database structure\n",
    "DB.create_all()"
   ]
  },
  {
   "cell_type": "markdown",
   "metadata": {},
   "source": [
    "### Downloading the Data\n",
    "\n",
    "The first step in the inversion process is downloading data that corresponds to the original solution of Global CMT Catalogue, which is maintained by the Lamont-Doherty Earth Observatory.\n",
    "\n",
    "To do this we use the Specifically design DataRequest class. We have to define certain parameters before we download the data:"
   ]
  },
  {
   "cell_type": "code",
   "execution_count": 2,
   "metadata": {},
   "outputs": [
    {
     "name": "stdout",
     "output_type": "stream",
     "text": [
      "\n",
      "Earthquake Parameters\n",
      "--------------------------------------------------\n",
      "Earthquake ID: 120504B\n",
      "Origin Time: 2004-12-05T01:52:41.100000Z\n",
      "Origin Latitude: 48.03\n",
      "Origin Longitude: 8.04\n",
      "\n",
      "Download Parameters:\n",
      "--------------------------------------------------\n",
      "Starttime: 2004-12-05T01:51:41.100000Z\n",
      "Endtime: 2004-12-05T02:51:41.100000Z\n",
      "Duration [s]: 3600\n",
      "Channels: ['BHN', 'BHE', 'BHZ']\n",
      "Locations: ['00']\n",
      "\n",
      "Saving Parameters:\n",
      "--------------------------------------------------\n",
      "Output Directory: ../../test_sample_database/eq_120504B\n",
      "\n"
     ]
    }
   ],
   "source": [
    "from gcmt3d.data import DataRequest\n",
    "from gcmt3d.source import CMTSource\n",
    "import os\n",
    "\n",
    "# Parameters\n",
    "duration = 3600      # seconds, 1h = 3600s\n",
    "channels = ['BHN', 'BHE', 'BHZ']   # needs to be a list\n",
    "locations=['00']     # location 00 is the primary location for most seismometers\n",
    "starttime_offset=-60 # -60 seconds is 1 min before the earthquakes inverted cmt solution \n",
    "resp_format=\"resp\"   # response format\n",
    "\n",
    "\n",
    "# Earthquake ID\n",
    "eqID = CMTSource.from_CMTSOLUTION_file(cmt_filename).eventname\n",
    "outputdir = os.path.join(databasedir, \"eq_\" + eqID)  # specific output directory here left open \n",
    "                                                    # if left open files will be saved in the \n",
    "                                                    # folder wher the `.cmt` file is located\n",
    "\n",
    "# Earthquake and Station parameters\n",
    "cmt_filename = os.path.join(outputdir, os.path.basename(outputdir)+\".cmt\")\n",
    "stationlist_filename = None\n",
    "\n",
    "# Create Request Object   \n",
    "Request = DataRequest.from_file(cmt_filename,\n",
    "                                stationlistfname=stationlist_filename,\n",
    "                                duration=duration,\n",
    "                                channels=channels,\n",
    "                                locations=locations,\n",
    "                                starttime_offset=starttime_offset,\n",
    "                                outputdir=outputdir)\n",
    "\n",
    "# Print Earthquake Download Info\n",
    "print(Request)"
   ]
  },
  {
   "cell_type": "markdown",
   "metadata": {},
   "source": [
    "After setting up the Request and inspecting the parameters we can download the data:"
   ]
  },
  {
   "cell_type": "code",
   "execution_count": 3,
   "metadata": {},
   "outputs": [
    {
     "name": "stdout",
     "output_type": "stream",
     "text": [
      "Reading data selection from list file '../../test_sample_database/eq_120504B/request.txt'\n",
      "Received 7.7 KB of metadata in 0.5 seconds (16.6 KB/s)\n",
      "Processed metadata for 317 channel epochs in 0.5 seconds\n",
      "Received 24.5 MB of time series data in 18.6 seconds (1.3 MB/s) - written to ../../test_sample_database/eq_120504B/seismograms/obs/120504B.mseed\n",
      "Received 271.0 KB of StationXML in 5.5 seconds (49.7 KB/s)\n",
      "DONE at 2019-06-03 16:48:33\n"
     ]
    }
   ],
   "source": [
    "# Download the data using the download method\n",
    "Request.download()"
   ]
  },
  {
   "cell_type": "markdown",
   "metadata": {},
   "source": [
    "The next step is to create a STATIONS file, which tells specfem3d_globe where to \"record\" the simulated traces:"
   ]
  },
  {
   "cell_type": "code",
   "execution_count": 4,
   "metadata": {
    "scrolled": true
   },
   "outputs": [
    {
     "name": "stdout",
     "output_type": "stream",
     "text": [
      "['IU', 'AAE', '9.0292', '38.7656', '2442.0', '0.0']\n",
      "['II', 'AAK', '42.6390', '74.4940', '1645.0', '30.0']\n",
      "['II', 'ABKT', '37.9304', '58.1189', '678.0', '7.0']\n",
      "['II', 'ABPO', '-19.0180', '47.2290', '1528.0', '5.3']\n",
      "['IU', 'ADK', '51.8823', '-176.6842', '130.0', '0.0']\n",
      "['IU', 'AFI', '-13.9093', '-171.7773', '705.0', '1.0']\n",
      "['II', 'ALE', '82.5033', '-62.3500', '60.0', '0.0']\n",
      "['IU', 'ANMO', '34.9459', '-106.4572', '1750.0', '100.0']\n",
      "['IU', 'ANTO', '39.8680', '32.7934', '1090.0', '195.0']\n",
      "['CU', 'ANWB', '17.6685', '-61.7856', '39.0', '0.0']\n",
      "['II', 'ARU', '56.4302', '58.5625', '250.0', '0.0']\n",
      "['II', 'ASCN', '-7.9327', '-14.3601', '173.0', '100.0']\n",
      "['CU', 'BBGH', '13.1434', '-59.5588', '180.0', '0.0']\n",
      "['IU', 'BBSR', '32.3713', '-64.6963', '-1.3', '31.4']\n",
      "['CU', 'BCIP', '9.1665', '-79.8373', '61.0', '0.0']\n",
      "['GT', 'BDFB', '-15.6418', '-48.0148', '1095.0', '100.0']\n",
      "['II', 'BFO', '48.3319', '8.3311', '589.0', '0.0']\n",
      "['GT', 'BGCA', '5.1764', '18.4242', '576.0', '100.0']\n",
      "['IU', 'BILL', '68.0653', '166.4531', '320.0', '0.0']\n",
      "['IC', 'BJT', '40.0183', '116.1679', '137.0', '60.0']\n",
      "['IU', 'BOCO', '4.5869', '-74.0432', '3137.0', '23.0']\n",
      "['II', 'BORG', '64.7474', '-21.3268', '110.0', '95.0']\n",
      "['GT', 'BOSA', '-28.6141', '25.2555', '1180.0', '100.0']\n",
      "['II', 'BRVK', '53.0581', '70.2828', '330.0', '15.0']\n",
      "['IU', 'CASY', '-66.2792', '110.5354', '5.0', '5.0']\n",
      "['IU', 'CCM', '38.0557', '-91.2446', '171.5', '51.0']\n",
      "['IU', 'CHTO', '18.8141', '98.9443', '420.0', '100.0']\n",
      "['II', 'CMLA', '37.7637', '-25.5243', '429.0', '97.0']\n",
      "['II', 'COCO', '-12.1901', '96.8349', '1.0', '70.0']\n",
      "['IU', 'COLA', '64.8736', '-147.8616', '80.0', '120.0']\n",
      "['IU', 'COL', '64.9000', '-147.7933', '320.0', '0.0']\n",
      "['IU', 'COR', '44.5855', '-123.3046', '110.0', '0.0']\n",
      "['GT', 'CPUP', '-26.3306', '-57.3309', '5.0', '100.0']\n",
      "['IU', 'CTAO', '-20.0882', '146.2545', '357.0', '37.0']\n",
      "['IU', 'DAV', '7.0697', '125.5791', '149.0', '1.0']\n",
      "['GT', 'DBIC', '6.6702', '-4.8566', '25.0', '100.0']\n",
      "['II', 'DGAR', '-7.4121', '72.4525', '1.0', '2.0']\n",
      "['IU', 'DWPF', '28.1103', '-81.4327', '-132.0', '162.0']\n",
      "['II', 'EFI', '-51.6753', '-58.0637', '110.0', '80.0']\n",
      "['IC', 'ENH', '30.2762', '109.4944', '500.0', '0.0']\n",
      "['II', 'ERM', '42.0150', '143.1572', '40.0', '0.0']\n",
      "['II', 'ESK', '55.3167', '-3.2050', '242.0', '0.0']\n",
      "['II', 'FFC', '54.7250', '-101.9783', '338.0', '0.0']\n",
      "['IU', 'FUNA', '-8.5259', '179.1966', '19.0', '1.0']\n",
      "['IU', 'FURI', '8.8952', '38.6798', '2565.0', '5.0']\n",
      "['II', 'GAR', '39.0000', '70.3167', '1300.0', '0.0']\n",
      "['IU', 'GNI', '40.1480', '44.7410', '1509.0', '100.0']\n",
      "['IU', 'GRFO', '49.6909', '11.2203', '384.0', '116.0']\n",
      "['CU', 'GRGR', '12.1324', '-61.6540', '195.0', '0.0']\n",
      "['CU', 'GRTK', '21.5115', '-71.1327', '12.0', '0.0']\n",
      "['CU', 'GTBY', '19.9268', '-75.1108', '79.2', '0.0']\n",
      "['IU', 'GUMO', '13.5893', '144.8684', '170.0', '109.0']\n",
      "['IC', 'HIA', '49.2704', '119.7414', '620.0', '0.0']\n",
      "['IU', 'HKT', '29.9618', '-95.8384', '-413.0', '450.0']\n",
      "['IU', 'HNR', '-9.4387', '159.9475', '0.0', '100.0']\n",
      "['II', 'HOPE', '-54.2836', '-36.4879', '20.0', '0.0']\n",
      "['IU', 'HRV', '42.5064', '-71.5583', '200.0', '0.0']\n",
      "['II', 'IASL', '34.9462', '-106.4567', '1740.0', '5.3']\n",
      "['II', 'IBFO', '48.3319', '8.3311', '589.0', '0.0']\n",
      "['IU', 'INCN', '37.4776', '126.6239', '79.0', '1.0']\n",
      "['IU', 'JOHN', '16.7329', '-169.5292', '-36.5', '39.0']\n",
      "['II', 'JTS', '10.2908', '-84.9525', '340.0', '0.0']\n",
      "['II', 'KAPI', '-5.0142', '119.7517', '300.0', '100.0']\n",
      "['IU', 'KBL', '34.5408', '69.0432', '1913.0', '7.0']\n",
      "['IU', 'KBS', '78.9154', '11.9385', '90.0', '3.0']\n",
      "['II', 'KDAK', '57.7828', '-152.5835', '152.0', '88.0']\n",
      "['IU', 'KEV', '69.7565', '27.0035', '100.0', '15.0']\n",
      "['IU', 'KIEV', '50.7012', '29.2242', '140.0', '40.0']\n",
      "['IU', 'KIP', '21.4200', '-158.0112', '77.0', '33.0']\n",
      "['II', 'KIV', '43.9562', '42.6888', '1210.0', '0.0']\n",
      "['IU', 'KMBO', '-1.1271', '37.2525', '1930.0', '20.0']\n",
      "['IC', 'KMI', '25.1233', '102.7400', '1940.0', '35.0']\n",
      "['IU', 'KNTN', '-2.7744', '-171.7186', '18.0', '2.0']\n",
      "['IU', 'KONO', '59.6491', '9.5982', '216.0', '340.0']\n",
      "['IU', 'KOWA', '14.4967', '-4.0140', '316.3', '5.0']\n",
      "['II', 'KURK', '50.7154', '78.6202', '184.0', '25.0']\n",
      "['II', 'KWAJ', '8.8019', '167.6130', '0.0', '0.0']\n",
      "['GT', 'LBTB', '-25.0151', '25.5966', '1028.0', '100.0']\n",
      "['IU', 'LCO', '-29.0110', '-70.7004', '2300.0', '0.0']\n",
      "['GT', 'LPAZ', '-16.2879', '-68.1307', '4717.0', '100.0']\n",
      "['IC', 'LSA', '29.7031', '91.1270', '3645.0', '15.0']\n",
      "['IU', 'LSZ', '-15.2779', '28.1882', '1200.0', '0.0']\n",
      "['IU', 'LVC', '-22.6127', '-68.9111', '2930.0', '30.0']\n",
      "['II', 'LVZ', '67.8979', '34.6514', '630.0', '200.0']\n",
      "['IU', 'MA2', '59.5756', '150.7700', '339.0', '2.0']\n",
      "['IU', 'MACI', '28.2502', '-16.5082', '1674.0', '0.0']\n",
      "['IU', 'MAJO', '36.5457', '138.2041', '405.0', '0.0']\n",
      "['IU', 'MAKZ', '46.8080', '81.9770', '590.0', '10.0']\n",
      "['II', 'MBAR', '-0.6019', '30.7382', '1390.0', '100.0']\n",
      "['IU', 'MBWA', '-21.1590', '119.7313', '88.0', '102.0']\n",
      "['IC', 'MDJ', '44.6170', '129.5908', '220.0', '50.0']\n",
      "['IU', 'MIDW', '28.2156', '-177.3698', '-73.6', '93.6']\n",
      "['II', 'MSEY', '-4.6737', '55.4792', '475.0', '91.0']\n",
      "['IU', 'MSKU', '-1.6557', '13.6116', '287.0', '25.0']\n",
      "['II', 'MSVF', '-17.7448', '178.0528', '801.1', '100.0']\n",
      "['CU', 'MTDJ', '18.2260', '-77.5345', '925.0', '0.0']\n",
      "['IU', 'NAI', '-1.2739', '36.8037', '1692.0', '0.0']\n",
      "['II', 'NIL', '33.6506', '73.2686', '629.0', '68.0']\n",
      "['II', 'NNA', '-11.9875', '-76.8422', '575.0', '40.0']\n",
      "['II', 'NRIL', '69.5049', '88.4414', '92.0', '506.0']\n",
      "['II', 'NVS', '54.8404', '83.2346', '150.0', '0.0']\n",
      "['IU', 'NWAO', '-32.9277', '117.2390', '280.0', '100.0']\n",
      "['II', 'OBN', '55.1146', '36.5674', '160.0', '30.0']\n",
      "['IU', 'OTAV', '0.2376', '-78.4508', '3495.0', '15.0']\n",
      "['IU', 'PAB', '39.5446', '-4.3499', '950.0', '0.0']\n",
      "['II', 'PALK', '7.2728', '80.7022', '460.0', '90.0']\n",
      "['IU', 'PAYG', '-0.6742', '-90.2861', '170.0', '100.0']\n",
      "['IU', 'PET', '53.0233', '158.6499', '110.0', '5.0']\n",
      "['II', 'PFO', '33.6092', '-116.4553', '1280.0', '0.0']\n",
      "['GT', 'PLCA', '-40.7328', '-70.5508', '950.0', '100.0']\n",
      "['IU', 'PMG', '-9.4047', '147.1597', '90.0', '0.0']\n",
      "['IU', 'PMSA', '-64.7744', '-64.0489', '40.0', '0.0']\n",
      "['IU', 'POHA', '19.7573', '-155.5326', '1909.7', '80.3']\n",
      "['IU', 'PTCN', '-25.0713', '-130.0953', '218.0', '2.0']\n",
      "['IU', 'PTGA', '-0.7308', '-59.9666', '137.0', '100.0']\n",
      "['IC', 'QIZ', '19.0291', '109.8445', '240.0', '0.0']\n",
      "['IU', 'QSPA', '-89.9289', '144.4382', '2580.0', '270.0']\n",
      "['IU', 'RAIO', '46.0403', '-122.8851', '1.5', '0.0']\n",
      "['IU', 'RAO', '-29.2450', '-177.9290', '59.5', '0.5']\n",
      "['IU', 'RAR', '-21.2125', '-159.7733', '-72.0', '100.0']\n",
      "['II', 'RAYN', '23.5225', '45.5032', '631.0', '2.0']\n",
      "['IU', 'RCBR', '-5.8274', '-35.9014', '291.0', '109.0']\n",
      "['II', 'RPN', '-27.1267', '-109.3344', '110.0', '0.0']\n",
      "['IU', 'RSSD', '44.1212', '-104.0359', '2020.8', '69.2']\n",
      "['II', 'SACV', '14.9702', '-23.6085', '387.0', '97.0']\n",
      "['IU', 'SAML', '-8.9489', '-63.1831', '9.0', '111.0']\n",
      "['IU', 'SBA', '-77.8492', '166.7572', '48.0', '2.0']\n",
      "['GT', 'SBB', '-77.8491', '166.7573', '20.0', '0.0']\n",
      "['CU', 'SDDR', '18.9821', '-71.2878', '589.0', '0.0']\n",
      "['IU', 'SDV', '8.8839', '-70.6340', '1620.0', '32.0']\n",
      "['IU', 'SFJD', '66.9961', '-50.6208', '330.0', '0.0']\n",
      "['IU', 'SFJ', '66.9967', '-50.6156', '365.5', '0.0']\n",
      "['II', 'SHEL', '-15.9588', '-5.7457', '537.0', '60.0']\n",
      "['IU', 'SJG', '18.1091', '-66.1500', '420.0', '0.0']\n",
      "['IU', 'SLBS', '23.6858', '-109.9443', '825.0', '0.0']\n",
      "['IU', 'SNZO', '-41.3087', '174.7043', '20.0', '100.0']\n",
      "['IU', 'SPA', '-89.9954', '115.0000', '2927.0', '0.0']\n",
      "['IC', 'SSE', '31.0948', '121.1908', '40.0', '0.0']\n",
      "['IU', 'SSPA', '40.6358', '-77.8876', '170.0', '100.0']\n",
      "['II', 'SUR', '-32.3797', '20.8117', '1770.0', '0.0']\n",
      "['IU', 'TARA', '1.3549', '172.9229', '19.0', '1.0']\n",
      "['IU', 'TATO', '24.9735', '121.4971', '70.0', '90.0']\n",
      "['II', 'TAU', '-42.9099', '147.3204', '132.0', '0.0']\n",
      "['IU', 'TBT', '28.6794', '-17.9145', '180.0', '40.0']\n",
      "['IU', 'TEIG', '20.2263', '-88.2763', '-71.0', '111.0']\n",
      "['CU', 'TGUH', '14.0570', '-87.2730', '1151.0', '0.0']\n",
      "['IU', 'TIXI', '71.6341', '128.8667', '40.0', '0.0']\n",
      "['II', 'TLY', '51.6807', '103.6438', '579.0', '20.0']\n",
      "['IU', 'TOL', '39.8814', '-4.0485', '480.0', '0.0']\n",
      "['IU', 'TRIS', '-37.0681', '-12.3152', '58.0', '2.0']\n",
      "['IU', 'TRQA', '-38.0568', '-61.9787', '439.0', '101.0']\n",
      "['IU', 'TSUM', '-19.2022', '17.5838', '1260.0', '0.0']\n",
      "['IU', 'TUC', '32.3098', '-110.7847', '909.0', '1.0']\n",
      "['IU', 'ULN', '47.8651', '107.0532', '1610.0', '0.0']\n",
      "['II', 'UOSS', '24.9453', '56.2042', '284.4', '0.0']\n",
      "['GT', 'VNDA', '-77.5172', '161.8528', '51.0', '100.0']\n",
      "['IU', 'WAKE', '19.2834', '166.6520', '-61.7', '81.7']\n",
      "['IU', 'WCI', '38.2289', '-86.2939', '78.0', '132.0']\n",
      "['IC', 'WMQ', '43.8138', '87.7049', '844.0', '6.0']\n",
      "['II', 'WRAB', '-19.9336', '134.3600', '366.0', '100.0']\n",
      "['IU', 'WVT', '36.1297', '-87.8300', '170.0', '0.0']\n",
      "['IC', 'XAN', '34.0313', '108.9237', '630.0', '0.0']\n",
      "['IU', 'XMAS', '2.0448', '-157.4457', '19.0', '1.0']\n",
      "['II', 'XPF', '33.6092', '-116.4533', '1280.0', '100.0']\n",
      "['II', 'XPFO', '33.6107', '-116.4555', '1280.0', '0.0']\n",
      "['IU', 'YAK', '62.0310', '129.6805', '110.0', '14.0']\n",
      "['IU', 'YSS', '46.9587', '142.7604', '148.0', '2.0']\n",
      "\n",
      "STATIONS FILE WRITTEN.\n",
      "\n"
     ]
    }
   ],
   "source": [
    "# Creating STATIONS file\n",
    "Request.specfem_list()\n",
    "\n",
    "# Move the STATIONS file to the subdirectory and overwrite the original ones..\n",
    "\n",
    "\n"
   ]
  },
  {
   "cell_type": "markdown",
   "metadata": {},
   "source": [
    "## Setting up specfem3d_globe\n",
    "\n",
    "To run specfem in an automated fashion, we need the derivative information of the traces with respect to the moment tensor attributes as well as the centroid location.\n",
    "I import the values that Wenjie set in his inversion.\n"
   ]
  },
  {
   "cell_type": "code",
   "execution_count": 8,
   "metadata": {},
   "outputs": [],
   "source": [
    "# Import pycmt3D values!\n",
    "from pycmt3d.constant import SCALE_MOMENT, SCALE_DEPTH, SCALE_LONGITUDE, SCALE_LATITUDE\n",
    "from gcmt3d.source import CMTSource\n",
    "from gcmt3d.data import SpecfemSources\n",
    "import os\n",
    "\n",
    "\n",
    "# Basic parameters\n",
    "cmt = CMTSource.from_CMTSOLUTION_file(cmt_filename)\n",
    "npar = 9\n",
    "dm = SCALE_MOMENT       # 10**22 dyne*cm\n",
    "dx = SCALE_DEPTH        # 1000 m\n",
    "ddeg = SCALE_LATITUDE   # 0.001 deg\n",
    "outdir = os.path.join(outputdir, \"CMT_SIMs\")\n",
    "\n",
    "sfsource = SpecfemSources(cmt, npar=npar, dm=dm, dx=dx, ddeg=ddeg,\n",
    "                          outdir=outdir)\n",
    "sfsource.write_sources()\n",
    "\n"
   ]
  },
  {
   "cell_type": "markdown",
   "metadata": {},
   "source": [
    "## Running SpecFEM3D Globe\n",
    "\n",
    "Now that everything is in place. We can run specfem using the `runSF3D` `class`. Buuuut I need to fix the `STATIONS` file first. it needs to be replaced."
   ]
  },
  {
   "cell_type": "code",
   "execution_count": 9,
   "metadata": {},
   "outputs": [],
   "source": [
    "from gcmt3d.runSF3D.runSF3D import RunSimulation\n",
    "\n",
    "\n",
    "# These are nodes per job for each simulation, this a different run\n",
    "nodes = 1\n",
    "tasks = 24\n",
    "walltime = \"04:00:00\"\n",
    "RD = RunSimulation(os.path.abspath(outputdir), N=nodes, n=tasks, walltime=walltime, verbose=True)\n",
    "\n",
    "# Replace the original STATIONSFILE with a new one\n",
    "# RD.replace_STATIONS(os.path.join(os.path.abspath(outputdir), \"station_data\", \"STATIONS\"))\n",
    "\n"
   ]
  },
  {
   "cell_type": "markdown",
   "metadata": {},
   "source": [
    "### Start the simulations\n",
    "\n",
    "Now, this will take a minimum amount of time to run, but notice that the simulation is only submitted to the scheduler. You will have to wait until it's done to continue with processing."
   ]
  },
  {
   "cell_type": "code",
   "execution_count": 10,
   "metadata": {},
   "outputs": [
    {
     "name": "stdout",
     "output_type": "stream",
     "text": [
      "CompletedProcess(args=['/scratch/gpfs/lsawade/GCMT3D/gcmt3d/runSF3D/batch/drive.sh', '1', '24', '9', '/scratch/gpfs/lsawade/sample_database/eq_120504B/CMT_SIMs', '04:00:00', '1', '/scratch/gpfs/lsawade/GCMT3D/gcmt3d/runSF3D/batch/drive.sbatch'], returncode=0, stdout='1\\n24\\n0-8\\n/scratch/gpfs/lsawade/sample_database/eq_120504B/CMT_SIMs\\n04:00:00\\n/scratch/gpfs/lsawade/GCMT3D/gcmt3d/runSF3D/batch/drive.sbatch\\nSUBMITTING ...\\nSubmitted batch job 3093828\\nSUBMITTED.\\n', stderr='')\n",
      "/scratch/gpfs/lsawade/GCMT3D/gcmt3d/runSF3D/batch/drive.sh 1 24 9 /scratch/gpfs/lsawade/sample_database/eq_120504B/CMT_SIMs 04:00:00 1 /scratch/gpfs/lsawade/GCMT3D/gcmt3d/runSF3D/batch/drive.sbatch\n",
      "Command has been sent.\n",
      "Output:\n",
      " 1\n",
      "24\n",
      "0-8\n",
      "/scratch/gpfs/lsawade/sample_database/eq_120504B/CMT_SIMs\n",
      "04:00:00\n",
      "/scratch/gpfs/lsawade/GCMT3D/gcmt3d/runSF3D/batch/drive.sbatch\n",
      "SUBMITTING ...\n",
      "Submitted batch job 3093828\n",
      "SUBMITTED.\n",
      "\n",
      "Errors:\n",
      " \n"
     ]
    }
   ],
   "source": [
    "RD()"
   ]
  },
  {
   "cell_type": "code",
   "execution_count": 8,
   "metadata": {},
   "outputs": [
    {
     "data": {
      "text/plain": [
       "'/scratch/gpfs/lsawade/GCMT3D/notebooks'"
      ]
     },
     "execution_count": 8,
     "metadata": {},
     "output_type": "execute_result"
    }
   ],
   "source": []
  },
  {
   "cell_type": "code",
   "execution_count": null,
   "metadata": {},
   "outputs": [],
   "source": []
  }
 ],
 "metadata": {
  "kernelspec": {
   "display_name": "Python 3",
   "language": "python",
   "name": "python3"
  },
  "language_info": {
   "codemirror_mode": {
    "name": "ipython",
    "version": 3
   },
   "file_extension": ".py",
   "mimetype": "text/x-python",
   "name": "python",
   "nbconvert_exporter": "python",
   "pygments_lexer": "ipython3",
   "version": "3.7.3"
  }
 },
 "nbformat": 4,
 "nbformat_minor": 2
}
