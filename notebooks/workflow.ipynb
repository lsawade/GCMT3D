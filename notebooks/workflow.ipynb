{
 "cells": [
  {
   "cell_type": "code",
   "execution_count": null,
   "metadata": {},
   "outputs": [],
   "source": []
  },
  {
   "cell_type": "markdown",
   "metadata": {},
   "source": [
    "# Global Centroid Moment Tensor 3D (GCMT3D)\n",
    "\n",
    "## The workflow\n",
    "\n",
    "Make sure you are in the right virtual environment.\n",
    "\n",
    "### Preparing Specfem3d_globe\n",
    "\n",
    "Before we create or add an earthquake to the database, the `Par_file` \n",
    "that sets all parameters for specfem needs to be set. Meaning that the \n",
    "All parameters, such as resolution, length of simulation, computational \n",
    "setup, etc., need to configured within the parameter file so that we can \n",
    "request the right number resources ono the fly. This is done using the `DATA\n",
    "fixer` class. After the `DATAFixer` class has modified the Par_file. It can be\n",
    "called to run the mesher. Note that for the following steps `specfem3d_globe`\n",
    "already has to be compiled."
   ]
  },
  {
   "cell_type": "code",
   "execution_count": 1,
   "metadata": {},
   "outputs": [],
   "source": [
    "from gcmt3d.runSF3D.runSF3D import DATAFixer\n",
    "import os\n",
    "\n",
    "SPECFEM_DIR = \"/scratch/gpfs/lsawade/specfem_tutorial/specfem3d_globe\"\n",
    "\n",
    "# Set MPI Parameters\n",
    "NEX_XI = 128\n",
    "NEX_ETA = 128\n",
    "NPROC_XI = 2\n",
    "NPROC_ETA = 2\n",
    "GPU_MODE = False\n",
    "ADIOS_ENABLED = False\n",
    "\n",
    "# Minimal Processing\n",
    "ROTATE_SEISMOGRAMS_RT = True\n",
    "RECORD_LENGTH = 60\n",
    "MODEL = \"s362ani\"\n",
    "\n",
    "# Output style\n",
    "WRITE_SEISMOGRAMS_BY_MASTER = True\n",
    "OUTPUT_SEISMOS_ASCII_TEXT = False\n",
    "OUTPUT_SEISMOS_SAC_ALPHANUM = False\n",
    "OUTPUT_SEISMOS_SAC_BINARY = True\n",
    "OUTPUT_SEISMOS_ASDF = False\n",
    "\n",
    "# Visualization\n",
    "MOVIE_SURFACE = False\n",
    "MOVIE_VOLUME = False\n",
    "MOVIE_COARSE = False\n",
    "\n",
    "# Computational Resources\n",
    "nodes = 1\n",
    "tasks = 24\n",
    "walltime = \"00:30:00\"\n",
    "# If solver is supposed to be used set these values. NOT the correct\n",
    "# solver wrapper for the CMT inversion.\n",
    "walltime_solver = None,\n",
    "nodes_solver = None,\n",
    "tasks_solver = None,\n",
    "\n",
    "# Verbose output\n",
    "verbose = True\n",
    "\n",
    "\n",
    "\n",
    "DF = DATAFixer(SPECFEM_DIR,\n",
    "               NEX_XI=NEX_XI, NEX_ETA=NEX_ETA, \n",
    "               NPROC_XI=NPROC_XI, NPROC_ETA=NPROC_ETA,\n",
    "               ROTATE_SEISMOGRAMS_RT=ROTATE_SEISMOGRAMS_RT,\n",
    "               RECORD_LENGTH=RECORD_LENGTH, MODEL=MODEL,\n",
    "               WRITE_SEISMOGRAMS_BY_MASTER=WRITE_SEISMOGRAMS_BY_MASTER,\n",
    "               OUTPUT_SEISMOS_ASCII_TEXT=OUTPUT_SEISMOS_ASCII_TEXT,\n",
    "               OUTPUT_SEISMOS_SAC_ALPHANUM=OUTPUT_SEISMOS_SAC_ALPHANUM,\n",
    "               OUTPUT_SEISMOS_SAC_BINARY=OUTPUT_SEISMOS_SAC_BINARY,\n",
    "               OUTPUT_SEISMOS_ASDF=OUTPUT_SEISMOS_ASDF,\n",
    "               MOVIE_SURFACE=MOVIE_SURFACE,\n",
    "               MOVIE_VOLUME=MOVIE_VOLUME,\n",
    "               MOVIE_COARSE=MOVIE_COARSE,\n",
    "               nodes=nodes, tasks=tasks, walltime=walltime,\n",
    "               nodes_solver=nodes_solver, tasks_solver=tasks_solver, walltime_solver=walltime_solver,\n",
    "               verbose=verbose)\n",
    "\n",
    "# Run `Par_file` fixer.\n",
    "DF.fix_parfiles()"
   ]
  },
  {
   "cell_type": "markdown",
   "metadata": {},
   "source": [
    "After the `Par_file` is fixed, we can run the mesher. The mesher \n",
    "only has to be run once if the only thing that changes are the \n",
    "sources and the receivers and the CMT Solution. In this case, \n",
    "it's only the CMT solution that changes. "
   ]
  },
  {
   "cell_type": "code",
   "execution_count": 2,
   "metadata": {},
   "outputs": [
    {
     "name": "stdout",
     "output_type": "stream",
     "text": [
      "sbatch -N 1 -n 24 -D /scratch/gpfs/lsawade/specfem_tutorial/specfem3d_globe -t 00:30:00 /scratch/gpfs/lsawade/GCMT3D/gcmt3d/runSF3D/batch/mesh.sbatch\n",
      "Command has been sent.\n",
      "Output:\n",
      " Submitted batch job 3093815\n",
      "\n",
      "Errors:\n",
      " \n"
     ]
    }
   ],
   "source": [
    "# Run the mesher to a slurm scheduler.\n",
    "DF.run_mesher()"
   ]
  },
  {
   "cell_type": "markdown",
   "metadata": {},
   "source": [
    "### Creating the Database Skeleton\n",
    "\n",
    "The `DatabaseSkeleton` `class` handles the setup of the database \n",
    "and creates new directories for new CMTs.\n",
    "\n",
    "```bash\n",
    "database\n",
    "├── eq_<eq_ID_1>\n",
    "│   ├── CMT_SIMs/\n",
    "squeue\n",
    "│   │   ├── CMT_depth/\n",
    "│   │   │    ├── DATA/\n",
    "│   │   │    ├── DATABASES_MPI/\n",
    "│   │   │    ├── OUTPUFILES/\n",
    "│   │   │    └── bin/        # symbolic link --> SPECFEM_DIR/bin/\n",
    "│   │   ├── CMT_lat/\n",
    "│   │   │    ├── DATA/\n",
    "│   │   │    :\n",
    "│   │   ├── CMT_lon/\n",
    "│   │   ├── CMT_pp/\n",
    "│   │   ├── CMT_rp/\n",
    "│   │   ├── CMT_rr/\n",
    "│   │   ├── CMT_rt/\n",
    "│   │   ├── CMT_tp/\n",
    "│   │   └── CMT_tt/\n",
    "│   ├── eq_9703873.cmt\n",
    "│   ├── station_data/\n",
    "│   ├── window_data/\n",
    "│   └── seismograms/\n",
    "│\n",
    "├── eq_<eq_ID_2>/\n",
    "│   ├── CMT_SIMs/\n",
    "│   :\n",
    "│\n",
    "├── eq_<eq_ID_3>/\n",
    ":\n",
    "\n",
    "```"
   ]
  },
  {
   "cell_type": "code",
   "execution_count": 3,
   "metadata": {},
   "outputs": [],
   "source": [
    "from gcmt3d.data.management.skeleton import DataBaseSkeleton\n",
    "\n",
    "\n",
    "# Set database directory\n",
    "databasedir = \"../../sample_database_bu\"\n",
    "cmt_filename = \"../../cmtgermany.cmt\"\n",
    "\n",
    "# Create Database skeleton class. Note that the specfem directory is not set\n",
    "# because it is not available on every system.\n",
    "DB = DataBaseSkeleton(basedir=databasedir, cmt_fn=cmt_filename, specfem_dir=SPECFEM_DIR, verbose=True, overwrite=False)"
   ]
  },
  {
   "cell_type": "code",
   "execution_count": 4,
   "metadata": {},
   "outputs": [
    {
     "name": "stdout",
     "output_type": "stream",
     "text": [
      "Creating directory ../../sample_database/eq_120504B.\n",
      "Copying earthquake ../../cmtgermany.cmt file to ../../sample_database/eq_120504B/eq_120504B.cmt.\n",
      "Creating directory ../../sample_database/eq_120504B/station_data.\n",
      "Creating directory ../../sample_database/eq_120504B/window_data.\n",
      "Creating directory ../../sample_database/eq_120504B/seismograms.\n",
      "Creating directory ../../sample_database/eq_120504B/CMT_SIMs.\n",
      "Creating directory ../../sample_database/eq_120504B/CMT_SIMs/CMT_rr.\n",
      "Copying directory /scratch/gpfs/lsawade/specfem_tutorial/specfem3d_globe/DATA file to ../../sample_database/eq_120504B/CMT_SIMs/CMT_rr/DATA\n",
      "Copying directory /scratch/gpfs/lsawade/specfem_tutorial/specfem3d_globe/DATABASES_MPI file to ../../sample_database/eq_120504B/CMT_SIMs/CMT_rr/DATABASES_MPI\n",
      "Copying directory /scratch/gpfs/lsawade/specfem_tutorial/specfem3d_globe/OUTPUT_FILES file to ../../sample_database/eq_120504B/CMT_SIMs/CMT_rr/OUTPUT_FILES\n",
      "Creating directory ../../sample_database/eq_120504B/CMT_SIMs/CMT_tt.\n",
      "Copying directory /scratch/gpfs/lsawade/specfem_tutorial/specfem3d_globe/DATA file to ../../sample_database/eq_120504B/CMT_SIMs/CMT_tt/DATA\n",
      "Copying directory /scratch/gpfs/lsawade/specfem_tutorial/specfem3d_globe/DATABASES_MPI file to ../../sample_database/eq_120504B/CMT_SIMs/CMT_tt/DATABASES_MPI\n",
      "Copying directory /scratch/gpfs/lsawade/specfem_tutorial/specfem3d_globe/OUTPUT_FILES file to ../../sample_database/eq_120504B/CMT_SIMs/CMT_tt/OUTPUT_FILES\n",
      "Creating directory ../../sample_database/eq_120504B/CMT_SIMs/CMT_pp.\n",
      "Copying directory /scratch/gpfs/lsawade/specfem_tutorial/specfem3d_globe/DATA file to ../../sample_database/eq_120504B/CMT_SIMs/CMT_pp/DATA\n",
      "Copying directory /scratch/gpfs/lsawade/specfem_tutorial/specfem3d_globe/DATABASES_MPI file to ../../sample_database/eq_120504B/CMT_SIMs/CMT_pp/DATABASES_MPI\n",
      "Copying directory /scratch/gpfs/lsawade/specfem_tutorial/specfem3d_globe/OUTPUT_FILES file to ../../sample_database/eq_120504B/CMT_SIMs/CMT_pp/OUTPUT_FILES\n",
      "Creating directory ../../sample_database/eq_120504B/CMT_SIMs/CMT_rt.\n",
      "Copying directory /scratch/gpfs/lsawade/specfem_tutorial/specfem3d_globe/DATA file to ../../sample_database/eq_120504B/CMT_SIMs/CMT_rt/DATA\n",
      "Copying directory /scratch/gpfs/lsawade/specfem_tutorial/specfem3d_globe/DATABASES_MPI file to ../../sample_database/eq_120504B/CMT_SIMs/CMT_rt/DATABASES_MPI\n",
      "Copying directory /scratch/gpfs/lsawade/specfem_tutorial/specfem3d_globe/OUTPUT_FILES file to ../../sample_database/eq_120504B/CMT_SIMs/CMT_rt/OUTPUT_FILES\n",
      "Creating directory ../../sample_database/eq_120504B/CMT_SIMs/CMT_rp.\n",
      "Copying directory /scratch/gpfs/lsawade/specfem_tutorial/specfem3d_globe/DATA file to ../../sample_database/eq_120504B/CMT_SIMs/CMT_rp/DATA\n",
      "Copying directory /scratch/gpfs/lsawade/specfem_tutorial/specfem3d_globe/DATABASES_MPI file to ../../sample_database/eq_120504B/CMT_SIMs/CMT_rp/DATABASES_MPI\n",
      "Copying directory /scratch/gpfs/lsawade/specfem_tutorial/specfem3d_globe/OUTPUT_FILES file to ../../sample_database/eq_120504B/CMT_SIMs/CMT_rp/OUTPUT_FILES\n",
      "Creating directory ../../sample_database/eq_120504B/CMT_SIMs/CMT_tp.\n",
      "Copying directory /scratch/gpfs/lsawade/specfem_tutorial/specfem3d_globe/DATA file to ../../sample_database/eq_120504B/CMT_SIMs/CMT_tp/DATA\n",
      "Copying directory /scratch/gpfs/lsawade/specfem_tutorial/specfem3d_globe/DATABASES_MPI file to ../../sample_database/eq_120504B/CMT_SIMs/CMT_tp/DATABASES_MPI\n",
      "Copying directory /scratch/gpfs/lsawade/specfem_tutorial/specfem3d_globe/OUTPUT_FILES file to ../../sample_database/eq_120504B/CMT_SIMs/CMT_tp/OUTPUT_FILES\n",
      "Creating directory ../../sample_database/eq_120504B/CMT_SIMs/CMT_depth.\n",
      "Copying directory /scratch/gpfs/lsawade/specfem_tutorial/specfem3d_globe/DATA file to ../../sample_database/eq_120504B/CMT_SIMs/CMT_depth/DATA\n",
      "Copying directory /scratch/gpfs/lsawade/specfem_tutorial/specfem3d_globe/DATABASES_MPI file to ../../sample_database/eq_120504B/CMT_SIMs/CMT_depth/DATABASES_MPI\n",
      "Copying directory /scratch/gpfs/lsawade/specfem_tutorial/specfem3d_globe/OUTPUT_FILES file to ../../sample_database/eq_120504B/CMT_SIMs/CMT_depth/OUTPUT_FILES\n",
      "Creating directory ../../sample_database/eq_120504B/CMT_SIMs/CMT_lat.\n",
      "Copying directory /scratch/gpfs/lsawade/specfem_tutorial/specfem3d_globe/DATA file to ../../sample_database/eq_120504B/CMT_SIMs/CMT_lat/DATA\n",
      "Copying directory /scratch/gpfs/lsawade/specfem_tutorial/specfem3d_globe/DATABASES_MPI file to ../../sample_database/eq_120504B/CMT_SIMs/CMT_lat/DATABASES_MPI\n",
      "Copying directory /scratch/gpfs/lsawade/specfem_tutorial/specfem3d_globe/OUTPUT_FILES file to ../../sample_database/eq_120504B/CMT_SIMs/CMT_lat/OUTPUT_FILES\n",
      "Creating directory ../../sample_database/eq_120504B/CMT_SIMs/CMT_lon.\n",
      "Copying directory /scratch/gpfs/lsawade/specfem_tutorial/specfem3d_globe/DATA file to ../../sample_database/eq_120504B/CMT_SIMs/CMT_lon/DATA\n",
      "Copying directory /scratch/gpfs/lsawade/specfem_tutorial/specfem3d_globe/DATABASES_MPI file to ../../sample_database/eq_120504B/CMT_SIMs/CMT_lon/DATABASES_MPI\n",
      "Copying directory /scratch/gpfs/lsawade/specfem_tutorial/specfem3d_globe/OUTPUT_FILES file to ../../sample_database/eq_120504B/CMT_SIMs/CMT_lon/OUTPUT_FILES\n"
     ]
    }
   ],
   "source": [
    "# Create database structure\n",
    "DB.create_all()"
   ]
  },
  {
   "cell_type": "markdown",
   "metadata": {},
   "source": [
    "### Downloading the Data\n",
    "The first step in the inversion process is downloading data that corresponds to the original solution of Global CMT Catalogue, which is maintained by the Lamont-Doherty Earth Observatory.\n",
    "\n",
    "To do this we use the Specifically design DataRequest class. We have to define certain parameters before we download the data:"
   ]
  },
  {
   "cell_type": "code",
   "execution_count": 5,
   "metadata": {},
   "outputs": [
    {
     "name": "stdout",
     "output_type": "stream",
     "text": [
      "\n",
      "Earthquake Parameters\n",
      "--------------------------------------------------\n",
      "Earthquake ID: 120504B\n",
      "Origin Time: 2004-12-05T01:52:41.100000Z\n",
      "Origin Latitude: 48.03\n",
      "Origin Longitude: 8.04\n",
      "\n",
      "Download Parameters:\n",
      "--------------------------------------------------\n",
      "Starttime: 2004-12-05T01:51:41.100000Z\n",
      "Endtime: 2004-12-05T02:51:41.100000Z\n",
      "Duration [s]: 3600\n",
      "Channels: ['BHN', 'BHE', 'BHZ']\n",
      "Locations: ['00']\n",
      "\n",
      "Saving Parameters:\n",
      "--------------------------------------------------\n",
      "Output Directory: ../../sample_database/eq_120504B\n",
      "\n"
     ]
    }
   ],
   "source": [
    "from gcmt3d.data import DataRequest\n",
    "import os\n",
    "\n",
    "# Parameters\n",
    "duration = 3600      # seconds, 1h = 3600s\n",
    "channels = ['BHN','BHE','BHZ']   # needs to be a list\n",
    "locations=['00']     # location 00 is the primary location for most seismometers\n",
    "starttime_offset=-60 # -60 seconds is 1 min before the earthquakes inverted cmt solution \n",
    "resp_format=\"resp\"   # response format\n",
    "\n",
    "\n",
    "# Earthquake ID\n",
    "eqID = DB.eq_ids[0]         \n",
    "outputdir= DB.eq_dirs[0]    # specific output directory here left open if left open files will \n",
    "                            # be saved in the folder wher the `.cmt` file is located\n",
    "\n",
    "\n",
    "# Earthquake and Station parameters\n",
    "cmt_filename = os.path.join(outputdir, os.path.basename(outputdir)+\".cmt\")\n",
    "stationlist_filename = None\n",
    "\n",
    "# Create Request Object   \n",
    "Request = DataRequest.from_file(cmt_filename,\n",
    "                                stationlistfname=stationlist_filename,\n",
    "                                duration=duration,\n",
    "                                channels=channels,\n",
    "                                locations=locations,\n",
    "                                starttime_offset=starttime_offset,\n",
    "                                outputdir=outputdir)\n",
    "\n",
    "# Print Earthquake Download Info\n",
    "print(Request)"
   ]
  },
  {
   "cell_type": "markdown",
   "metadata": {},
   "source": [
    "After setting up the Request and inspecting the parameters we can download the data:"
   ]
  },
  {
   "cell_type": "code",
   "execution_count": 6,
   "metadata": {},
   "outputs": [
    {
     "name": "stdout",
     "output_type": "stream",
     "text": [
      "Reading data selection from list file '../../sample_database/eq_120504B/request.txt'\n",
      "Received 6.9 KB of metadata in 0.5 seconds (14.8 KB/s)\n",
      "Processed metadata for 278 channel epochs in 0.5 seconds\n",
      "Received 21.2 MB of time series data in 12.5 seconds (1.7 MB/s) - written to ../../sample_database/eq_120504B/seismograms/obs/120504B.mseed\n",
      "Received 241.2 KB of StationXML in 3.9 seconds (61.5 KB/s)\n",
      "DONE at 2019-05-29 10:59:50\n"
     ]
    }
   ],
   "source": [
    "# Download the data using the download method\n",
    "Request.download()"
   ]
  },
  {
   "cell_type": "markdown",
   "metadata": {},
   "source": [
    "The next step is to create a STATIONS file, which tells specfem3d_globe where to \"record\" the simulated traces:"
   ]
  },
  {
   "cell_type": "code",
   "execution_count": 7,
   "metadata": {
    "scrolled": true
   },
   "outputs": [
    {
     "name": "stdout",
     "output_type": "stream",
     "text": [
      "\n",
      "STATIONS FILE WRITTEN.\n",
      "\n"
     ]
    }
   ],
   "source": [
    "# Creating STATIONS file\n",
    "Request.specfem_list()\n",
    "\n",
    "# Move the STATIONS file to the subdirectory and overwrite the original ones..\n",
    "\n",
    "\n"
   ]
  },
  {
   "cell_type": "markdown",
   "metadata": {},
   "source": [
    "## Setting up specfem3d_globe\n",
    "\n",
    "To run specfem in an automated fashion, we need the derivative information of the traces with respect to the moment tensor attributes as well as the centroid location.\n",
    "I import the values that Wenjie set in his inversion.\n"
   ]
  },
  {
   "cell_type": "code",
   "execution_count": 8,
   "metadata": {},
   "outputs": [],
   "source": [
    "# Import pycmt3D values!\n",
    "from pycmt3d.constant import SCALE_MOMENT, SCALE_DEPTH, SCALE_LONGITUDE, SCALE_LATITUDE\n",
    "from gcmt3d.source import CMTSource\n",
    "from gcmt3d.data import SpecfemSources\n",
    "import os\n",
    "\n",
    "\n",
    "# Basic parameters\n",
    "cmt = CMTSource.from_CMTSOLUTION_file(cmt_filename)\n",
    "npar = 9\n",
    "dm = SCALE_MOMENT       # 10**22 dyne*cm\n",
    "dx = SCALE_DEPTH        # 1000 m\n",
    "ddeg = SCALE_LATITUDE   # 0.001 deg\n",
    "outdir = os.path.join(outputdir,\"CMT_SIMs\")\n",
    "\n",
    "sfsource = SpecfemSources(cmt, npar=npar, dm=dm, dx=dx, ddeg=ddeg,\n",
    "                          outdir=outdir)\n",
    "sfsource.write_sources()\n",
    "\n"
   ]
  },
  {
   "cell_type": "markdown",
   "metadata": {},
   "source": [
    "## Running SpecFEM3D Globe\n",
    "\n",
    "Now that everything is in place. We can run specfem using the `runSF3D` `class`. Buuuut I need to fix the `STATIONS` file first. it needs to be replaced."
   ]
  },
  {
   "cell_type": "code",
   "execution_count": 9,
   "metadata": {},
   "outputs": [],
   "source": [
    "from gcmt3d.runSF3D.runSF3D import RunSimulation\n",
    "\n",
    "\n",
    "# These are nodes per job for each simulation, this a different run\n",
    "nodes = 1\n",
    "tasks = 24\n",
    "walltime = \"04:00:00\"\n",
    "RD = RunSimulation(os.path.abspath(outputdir), N=nodes, n=tasks, walltime=walltime, verbose=True)\n",
    "\n",
    "# Replace the original STATIONSFILE with a new one\n",
    "# RD.replace_STATIONS(os.path.join(os.path.abspath(outputdir), \"station_data\", \"STATIONS\"))\n",
    "\n"
   ]
  },
  {
   "cell_type": "markdown",
   "metadata": {},
   "source": [
    "### Start the simulations\n",
    "\n",
    "Now, this will take a minimum amount of time to run, but notice that the simulation is only submitted to the scheduler. You will have to wait until it's done to continue with processing."
   ]
  },
  {
   "cell_type": "code",
   "execution_count": 10,
   "metadata": {},
   "outputs": [
    {
     "name": "stdout",
     "output_type": "stream",
     "text": [
      "CompletedProcess(args=['/scratch/gpfs/lsawade/GCMT3D/gcmt3d/runSF3D/batch/drive.sh', '1', '24', '9', '/scratch/gpfs/lsawade/sample_database/eq_120504B/CMT_SIMs', '04:00:00', '1', '/scratch/gpfs/lsawade/GCMT3D/gcmt3d/runSF3D/batch/drive.sbatch'], returncode=0, stdout='1\\n24\\n0-8\\n/scratch/gpfs/lsawade/sample_database/eq_120504B/CMT_SIMs\\n04:00:00\\n/scratch/gpfs/lsawade/GCMT3D/gcmt3d/runSF3D/batch/drive.sbatch\\nSUBMITTING ...\\nSubmitted batch job 3093828\\nSUBMITTED.\\n', stderr='')\n",
      "/scratch/gpfs/lsawade/GCMT3D/gcmt3d/runSF3D/batch/drive.sh 1 24 9 /scratch/gpfs/lsawade/sample_database/eq_120504B/CMT_SIMs 04:00:00 1 /scratch/gpfs/lsawade/GCMT3D/gcmt3d/runSF3D/batch/drive.sbatch\n",
      "Command has been sent.\n",
      "Output:\n",
      " 1\n",
      "24\n",
      "0-8\n",
      "/scratch/gpfs/lsawade/sample_database/eq_120504B/CMT_SIMs\n",
      "04:00:00\n",
      "/scratch/gpfs/lsawade/GCMT3D/gcmt3d/runSF3D/batch/drive.sbatch\n",
      "SUBMITTING ...\n",
      "Submitted batch job 3093828\n",
      "SUBMITTED.\n",
      "\n",
      "Errors:\n",
      " \n"
     ]
    }
   ],
   "source": [
    "RD()"
   ]
  },
  {
   "cell_type": "code",
   "execution_count": 8,
   "metadata": {},
   "outputs": [
    {
     "data": {
      "text/plain": [
       "'/scratch/gpfs/lsawade/GCMT3D/notebooks'"
      ]
     },
     "execution_count": 8,
     "metadata": {},
     "output_type": "execute_result"
    }
   ],
   "source": [
    "pwd"
   ]
  },
  {
   "cell_type": "code",
   "execution_count": null,
   "metadata": {},
   "outputs": [],
   "source": []
  }
 ],
 "metadata": {
  "kernelspec": {
   "display_name": "Python 3",
   "language": "python",
   "name": "python3"
  },
  "language_info": {
   "codemirror_mode": {
    "name": "ipython",
    "version": 3
   },
   "file_extension": ".py",
   "mimetype": "text/x-python",
   "name": "python",
   "nbconvert_exporter": "python",
   "pygments_lexer": "ipython3",
   "version": "3.7.3"
  }
 },
 "nbformat": 4,
 "nbformat_minor": 2
}
