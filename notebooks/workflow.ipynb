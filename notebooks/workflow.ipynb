{
 "cells": [
  {
   "cell_type": "markdown",
   "metadata": {},
   "source": [
    "# Global Centroid Moment Tensor 3D (GCMT3D)\n",
    "\n",
    "## The workflow\n",
    "\n",
    "Make sure you are in the right virtual environment.\n",
    "\n",
    "\n",
    "### Creating the Database Skeleton\n",
    "\n",
    "The `DatabaseSkeleton` `class` handles the setup of the database \n",
    "and creates new directories for new CMTs.\n",
    "\n",
    "```bash\n",
    "database\n",
    "├── eq_<eq_ID_1>\n",
    "│   ├── CMT_SIMs/\n",
    "│   │   ├── CMT_depth/\n",
    "│   │   │    ├── DATA/\n",
    "│   │   │    ├── DATABASES_MPI/\n",
    "│   │   │    ├── OUTPUFILES/\n",
    "│   │   │    └── bin/        # symbolic link --> SPECFEM_DIR/bin/\n",
    "│   │   ├── CMT_lat/\n",
    "│   │   │    ├── DATA/\n",
    "│   │   │    :\n",
    "│   │   ├── CMT_lon/\n",
    "│   │   ├── CMT_pp/\n",
    "│   │   ├── CMT_rp/\n",
    "│   │   ├── CMT_rr/\n",
    "│   │   ├── CMT_rt/\n",
    "│   │   ├── CMT_tp/\n",
    "│   │   └── CMT_tt/\n",
    "│   ├── eq_9703873.cmt\n",
    "│   ├── responses/\n",
    "│   └── seismograms/\n",
    "│\n",
    "├── eq_<eq_ID_2>/\n",
    "│   ├── CMT_SIMs/\n",
    "│   :\n",
    "│\n",
    "├── eq_<eq_ID_3>/\n",
    ":\n",
    "\n",
    "```"
   ]
  },
  {
   "cell_type": "code",
   "execution_count": 1,
   "metadata": {},
   "outputs": [],
   "source": [
    "from gcmt3d.data.management.skeleton import DataBaseSkeleton\n",
    "\n",
    "\n",
    "# Set database directory\n",
    "databasedir = \"data/sample_database\"\n",
    "cmt_filename = \"data/CMTSOLUTION\"\n",
    "\n",
    "# Create Database skeleton class. Note that the specfem directory is not set\n",
    "# because it is not available on every system.\n",
    "DB = DataBaseSkeleton( basedir=databasedir, cmt_fn=cmt_filename, specfem_dir=None, verbose=True)\n",
    "\n",
    "# Create database structure\n",
    "DB.create_all()\n"
   ]
  },
  {
   "cell_type": "markdown",
   "metadata": {},
   "source": [
    "### Downloading the Data\n",
    "The first step in the inversion process is downloading data that corresponds to the original solution of Global CMT Catalogue, which is maintained by the Lamont-Doherty Earth Observatory.\n",
    "\n",
    "To do this we use the Specifically design DataRequest class. We have to define certain parameters before we download the data:"
   ]
  },
  {
   "cell_type": "code",
   "execution_count": 2,
   "metadata": {},
   "outputs": [
    {
     "ename": "FileNotFoundError",
     "evalue": "[Errno 2] No such file or directory: 'data/eq_060994A/earthquake_data/CMTSOLUTION'",
     "output_type": "error",
     "traceback": [
      "\u001b[0;31m---------------------------------------------------------------------------\u001b[0m",
      "\u001b[0;31mFileNotFoundError\u001b[0m                         Traceback (most recent call last)",
      "\u001b[0;32m<ipython-input-2-67288350ae57>\u001b[0m in \u001b[0;36m<module>\u001b[0;34m\u001b[0m\n\u001b[1;32m     26\u001b[0m                                 \u001b[0mlocations\u001b[0m\u001b[0;34m=\u001b[0m\u001b[0mlocations\u001b[0m\u001b[0;34m,\u001b[0m\u001b[0;34m\u001b[0m\u001b[0;34m\u001b[0m\u001b[0m\n\u001b[1;32m     27\u001b[0m                                 \u001b[0mstarttime_offset\u001b[0m\u001b[0;34m=\u001b[0m\u001b[0mstarttime_offset\u001b[0m\u001b[0;34m,\u001b[0m\u001b[0;34m\u001b[0m\u001b[0;34m\u001b[0m\u001b[0m\n\u001b[0;32m---> 28\u001b[0;31m                                 outputdir=outputdir)\n\u001b[0m\u001b[1;32m     29\u001b[0m \u001b[0;34m\u001b[0m\u001b[0m\n\u001b[1;32m     30\u001b[0m \u001b[0;31m# Print Earthquake Download Info\u001b[0m\u001b[0;34m\u001b[0m\u001b[0;34m\u001b[0m\u001b[0;34m\u001b[0m\u001b[0m\n",
      "\u001b[0;32m~/Research/GCMT3D/gcmt3d/data/download/requestBuilder.py\u001b[0m in \u001b[0;36mfrom_file\u001b[0;34m(cls, cmtfname, stationlistfname, duration, channels, locations, starttime_offset, outputdir, verbose)\u001b[0m\n\u001b[1;32m    130\u001b[0m \u001b[0;34m\u001b[0m\u001b[0m\n\u001b[1;32m    131\u001b[0m         \u001b[0;31m# First Create CMT Solution\u001b[0m\u001b[0;34m\u001b[0m\u001b[0;34m\u001b[0m\u001b[0;34m\u001b[0m\u001b[0m\n\u001b[0;32m--> 132\u001b[0;31m         \u001b[0mcmt\u001b[0m \u001b[0;34m=\u001b[0m \u001b[0mCMTSource\u001b[0m\u001b[0;34m.\u001b[0m\u001b[0mfrom_CMTSOLUTION_file\u001b[0m\u001b[0;34m(\u001b[0m\u001b[0mcmtfname\u001b[0m\u001b[0;34m)\u001b[0m\u001b[0;34m\u001b[0m\u001b[0;34m\u001b[0m\u001b[0m\n\u001b[0m\u001b[1;32m    133\u001b[0m \u001b[0;34m\u001b[0m\u001b[0m\n\u001b[1;32m    134\u001b[0m         \u001b[0;31m# Read station list file with two columns and whitespace separation\u001b[0m\u001b[0;34m\u001b[0m\u001b[0;34m\u001b[0m\u001b[0;34m\u001b[0m\u001b[0m\n",
      "\u001b[0;32m~/Research/GCMT3D/gcmt3d/source.py\u001b[0m in \u001b[0;36mfrom_CMTSOLUTION_file\u001b[0;34m(cls, filename)\u001b[0m\n\u001b[1;32m     77\u001b[0m         \"\"\"\n\u001b[1;32m     78\u001b[0m \u001b[0;34m\u001b[0m\u001b[0m\n\u001b[0;32m---> 79\u001b[0;31m         \u001b[0;32mwith\u001b[0m \u001b[0mopen\u001b[0m\u001b[0;34m(\u001b[0m\u001b[0mfilename\u001b[0m\u001b[0;34m,\u001b[0m \u001b[0;34m\"rt\"\u001b[0m\u001b[0;34m)\u001b[0m \u001b[0;32mas\u001b[0m \u001b[0mf\u001b[0m\u001b[0;34m:\u001b[0m\u001b[0;34m\u001b[0m\u001b[0;34m\u001b[0m\u001b[0m\n\u001b[0m\u001b[1;32m     80\u001b[0m             \u001b[0mline\u001b[0m \u001b[0;34m=\u001b[0m \u001b[0mf\u001b[0m\u001b[0;34m.\u001b[0m\u001b[0mreadline\u001b[0m\u001b[0;34m(\u001b[0m\u001b[0;34m)\u001b[0m\u001b[0;34m\u001b[0m\u001b[0;34m\u001b[0m\u001b[0m\n\u001b[1;32m     81\u001b[0m             \u001b[0morigin_time\u001b[0m \u001b[0;34m=\u001b[0m \u001b[0mline\u001b[0m\u001b[0;34m[\u001b[0m\u001b[0;36m4\u001b[0m\u001b[0;34m:\u001b[0m\u001b[0;34m]\u001b[0m\u001b[0;34m.\u001b[0m\u001b[0mstrip\u001b[0m\u001b[0;34m(\u001b[0m\u001b[0;34m)\u001b[0m\u001b[0;34m.\u001b[0m\u001b[0msplit\u001b[0m\u001b[0;34m(\u001b[0m\u001b[0;34m)\u001b[0m\u001b[0;34m[\u001b[0m\u001b[0;34m:\u001b[0m\u001b[0;36m6\u001b[0m\u001b[0;34m]\u001b[0m\u001b[0;34m\u001b[0m\u001b[0;34m\u001b[0m\u001b[0m\n",
      "\u001b[0;31mFileNotFoundError\u001b[0m: [Errno 2] No such file or directory: 'data/eq_060994A/earthquake_data/CMTSOLUTION'"
     ]
    }
   ],
   "source": [
    "from gcmt3d.data import DataRequest\n",
    "\n",
    "# Parameters\n",
    "duration = 3600      # seconds, 1h = 3600s\n",
    "channels = ['BHN','BHE','BHZ']   # needs to be a list\n",
    "locations=['00']     # location 00 is the primary location for most seismometers\n",
    "starttime_offset=-60 # -60 seconds is 1 min before the earthquakes inverted cmt solution \n",
    "resp_format=\"resp\"   # response format\n",
    "\n",
    "\n",
    "# Earthquake ID\n",
    "eqID = \"eq_060994A\"\n",
    "outputdir=\"data/\"+eqID+\"/\"  # specific output directory here left open if left open files will \n",
    "                            # be saved in the folder wher the `.cmt` file is located\n",
    "\n",
    "\n",
    "# Earthquake and Station parameters\n",
    "cmt_filename = \"data/\" + eqID + \"/earthquake_data/CMTSOLUTION\"\n",
    "stationlist_filename = \"./src/gcmt3d/data/download/resources/stations.txt\"\n",
    "\n",
    "# Create Request Object   \n",
    "Request = DataRequest.from_file(cmt_filename,\n",
    "                                stationlist_filename,\n",
    "                                duration=duration,\n",
    "                                channels=channels,\n",
    "                                locations=locations,\n",
    "                                starttime_offset=starttime_offset,\n",
    "                                outputdir=outputdir)\n",
    "\n",
    "# Print Earthquake Download Info\n",
    "print(Request)"
   ]
  },
  {
   "cell_type": "markdown",
   "metadata": {},
   "source": [
    "After setting up the Request and inspecting the parameters we can download the data:"
   ]
  },
  {
   "cell_type": "code",
   "execution_count": 3,
   "metadata": {},
   "outputs": [
    {
     "name": "stdout",
     "output_type": "stream",
     "text": [
      "Reading data selection from list file 'data/eq_060994A//request.txt'\n",
      "Received 1.3 KB of metadata in 0.5 seconds (2.5 KB/s)\n",
      "Processed metadata for 45 channel epochs in 0.5 seconds\n",
      "Received 4.6 MB of time series data in 5.4 seconds (864.8 KB/s) - written to data/eq_060994A/seismograms/obs/060994A.mseed\n",
      "Received 114.0 KB of StationXML in 0.6 seconds (184.1 KB/s)\n",
      "DONE at 2019-04-08 01:40:42\n"
     ]
    }
   ],
   "source": [
    "# Download the data using the download method\n",
    "Request.download()"
   ]
  },
  {
   "cell_type": "markdown",
   "metadata": {},
   "source": [
    "The next step is to create a STATIONS file, which tells specfem3d_globe where to \"record\" the simulated traces:"
   ]
  },
  {
   "cell_type": "code",
   "execution_count": 4,
   "metadata": {
    "scrolled": true
   },
   "outputs": [
    {
     "name": "stdout",
     "output_type": "stream",
     "text": [
      "\n",
      "STATIONS FILE WRITTEN.\n",
      "\n"
     ]
    }
   ],
   "source": [
    "# Creating STATIONS file\n",
    "Request.specfem_list()"
   ]
  },
  {
   "cell_type": "markdown",
   "metadata": {},
   "source": [
    "## Setting up specfem3d_globe\n",
    "\n",
    "To run specfem in an automated fashion, we need the derivative information of the traces with respect to the moment tensor attributes as well as the centroid location.\n",
    "I import the values that Wenjie set in his inversion.\n"
   ]
  },
  {
   "cell_type": "code",
   "execution_count": 3,
   "metadata": {},
   "outputs": [],
   "source": [
    "from pycmt3d.constant import SCALE_MOMENT, SCALE_DEPTH, SCALE_LONGITUDE, SCALE_LATITUDE\n",
    "from gcmt3d.source import CMTSource\n",
    "from gcmt3d.data import SpecfemSources\n",
    "import os\n",
    "\n",
    "\n",
    "# Basic parameters\n",
    "cmt = CMTSource.from_CMTSOLUTION_file(cmt_filename)\n",
    "npar = 9\n",
    "dm = SCALE_MOMENT       # 10**22 dyne*cm\n",
    "dx = SCALE_DEPTH        # 1000 m\n",
    "ddeg = SCALE_LATITUDE   # 0.001 deg\n",
    "outdir = os.path.join(outputdir,\"earthquake_data\")\n",
    "\n",
    "sfsource = SpecfemSources(cmt, npar=npar, dm=dm, dx=dx, ddeg=ddeg,\n",
    "                          outdir=outdir)\n",
    "sfsource.write_sources()\n"
   ]
  }
 ],
 "metadata": {
  "kernelspec": {
   "display_name": "Python 3",
   "language": "python",
   "name": "python3"
  },
  "language_info": {
   "codemirror_mode": {
    "name": "ipython",
    "version": 3
   },
   "file_extension": ".py",
   "mimetype": "text/x-python",
   "name": "python",
   "nbconvert_exporter": "python",
   "pygments_lexer": "ipython3",
   "version": "3.7.1"
  }
 },
 "nbformat": 4,
 "nbformat_minor": 2
}
