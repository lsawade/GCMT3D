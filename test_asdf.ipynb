{
 "cells": [
  {
   "cell_type": "markdown",
   "metadata": {},
   "source": [
    "# Data to ASDF\n",
    "\n",
    "Since the downloaded data can't simply be used in the `.mseed` format,\n",
    "the data needs to be converted into a more versatile format. This can \n",
    "be done using obspy and pyasdf.\n",
    "\n",
    "## Import data as streams"
   ]
  },
  {
   "cell_type": "code",
   "execution_count": 1,
   "metadata": {},
   "outputs": [
    {
     "ename": "FileNotFoundError",
     "evalue": "[Errno 2] No such file or directory: 'data/eq_010202E/fijiCMT.cmt'",
     "output_type": "error",
     "traceback": [
      "\u001b[0;31m---------------------------------------------------------------------------\u001b[0m",
      "\u001b[0;31mFileNotFoundError\u001b[0m                         Traceback (most recent call last)",
      "\u001b[0;32m<ipython-input-1-a7ec13d181cd>\u001b[0m in \u001b[0;36m<module>\u001b[0;34m\u001b[0m\n\u001b[1;32m      5\u001b[0m \u001b[0;34m\u001b[0m\u001b[0m\n\u001b[1;32m      6\u001b[0m \u001b[0;31m# Import event\u001b[0m\u001b[0;34m\u001b[0m\u001b[0;34m\u001b[0m\u001b[0;34m\u001b[0m\u001b[0m\n\u001b[0;32m----> 7\u001b[0;31m \u001b[0mcmt\u001b[0m \u001b[0;34m=\u001b[0m \u001b[0mCMTSource\u001b[0m\u001b[0;34m.\u001b[0m\u001b[0mfrom_CMTSOLUTION_file\u001b[0m\u001b[0;34m(\u001b[0m\u001b[0;34m\"data/eq_010202E/fijiCMT.cmt\"\u001b[0m\u001b[0;34m)\u001b[0m\u001b[0;34m\u001b[0m\u001b[0;34m\u001b[0m\u001b[0m\n\u001b[0m\u001b[1;32m      8\u001b[0m \u001b[0mevent_coordinates\u001b[0m \u001b[0;34m=\u001b[0m \u001b[0;34m(\u001b[0m\u001b[0mcmt\u001b[0m\u001b[0;34m.\u001b[0m\u001b[0mlatitude\u001b[0m\u001b[0;34m,\u001b[0m\u001b[0mcmt\u001b[0m\u001b[0;34m.\u001b[0m\u001b[0mlongitude\u001b[0m\u001b[0;34m)\u001b[0m\u001b[0;34m\u001b[0m\u001b[0;34m\u001b[0m\u001b[0m\n\u001b[1;32m      9\u001b[0m \u001b[0;34m\u001b[0m\u001b[0m\n",
      "\u001b[0;32m~/.anaconda3/lib/python3.7/site-packages/gcmt3d/source.py\u001b[0m in \u001b[0;36mfrom_CMTSOLUTION_file\u001b[0;34m(cls, filename)\u001b[0m\n\u001b[1;32m     77\u001b[0m         \"\"\"\n\u001b[1;32m     78\u001b[0m \u001b[0;34m\u001b[0m\u001b[0m\n\u001b[0;32m---> 79\u001b[0;31m         \u001b[0;32mwith\u001b[0m \u001b[0mopen\u001b[0m\u001b[0;34m(\u001b[0m\u001b[0mfilename\u001b[0m\u001b[0;34m,\u001b[0m \u001b[0;34m\"rt\"\u001b[0m\u001b[0;34m)\u001b[0m \u001b[0;32mas\u001b[0m \u001b[0mf\u001b[0m\u001b[0;34m:\u001b[0m\u001b[0;34m\u001b[0m\u001b[0;34m\u001b[0m\u001b[0m\n\u001b[0m\u001b[1;32m     80\u001b[0m             \u001b[0mline\u001b[0m \u001b[0;34m=\u001b[0m \u001b[0mf\u001b[0m\u001b[0;34m.\u001b[0m\u001b[0mreadline\u001b[0m\u001b[0;34m(\u001b[0m\u001b[0;34m)\u001b[0m\u001b[0;34m\u001b[0m\u001b[0;34m\u001b[0m\u001b[0m\n\u001b[1;32m     81\u001b[0m             \u001b[0morigin_time\u001b[0m \u001b[0;34m=\u001b[0m \u001b[0mline\u001b[0m\u001b[0;34m[\u001b[0m\u001b[0;36m4\u001b[0m\u001b[0;34m:\u001b[0m\u001b[0;34m]\u001b[0m\u001b[0;34m.\u001b[0m\u001b[0mstrip\u001b[0m\u001b[0;34m(\u001b[0m\u001b[0;34m)\u001b[0m\u001b[0;34m.\u001b[0m\u001b[0msplit\u001b[0m\u001b[0;34m(\u001b[0m\u001b[0;34m)\u001b[0m\u001b[0;34m[\u001b[0m\u001b[0;34m:\u001b[0m\u001b[0;36m6\u001b[0m\u001b[0;34m]\u001b[0m\u001b[0;34m\u001b[0m\u001b[0;34m\u001b[0m\u001b[0m\n",
      "\u001b[0;31mFileNotFoundError\u001b[0m: [Errno 2] No such file or directory: 'data/eq_010202E/fijiCMT.cmt'"
     ]
    }
   ],
   "source": [
    "import numpy\n",
    "import pyasdf\n",
    "from obspy import read, read_inventory\n",
    "from gcmt3d import CMTSource\n",
    "\n",
    "# Import event\n",
    "cmt = CMTSource.from_CMTSOLUTION_file(\"data/eq_010202E/fijiCMT.cmt\")\n",
    "event_coordinates = (cmt.latitude,cmt.longitude)\n",
    "\n",
    "# Read Station XML as inventory\n",
    "inv = read_inventory(\"data/eq_010202E/station.xml\")\n",
    "\n",
    "# Import traces\n",
    "stream = read(\"data/eq_010202E/seismograms/010202E.mseed\")\n",
    "\n",
    "# Remove the responses from the traces using the inventory\n",
    "stream.remove_response(inventory=inv)\n",
    "\n",
    "# Detrend the traces linearly\n",
    "stream.detrend()\n",
    "\n",
    "# Bandpass filter the traces using a butterworth filter\n",
    "stream.filter(\"bandpass\",freqmin=0.01, freqmax=1.5)\n"
   ]
  },
  {
   "cell_type": "markdown",
   "metadata": {},
   "source": [
    "Now, what we have is a source, an inventory with the station information \n",
    "and a stream object containing traces, from which the response has been \n",
    "removed and which have been normalized. To get an overview of the recorded\n",
    "traces the next step is to plot them in a section as a function of distance \n",
    "to the earthquake. To do this we need to add either the epicentral distance \n",
    "to `stream.trace.stats.distance` or we can add the location to \n",
    "`stream.trace.stats.coordinates.latitude` and \n",
    "`stream.trace.stats.coordinates.longitude`. This is done by looping through \n",
    "the traces and finding the necessary info in the inventory file:\n"
   ]
  },
  {
   "cell_type": "code",
   "execution_count": null,
   "metadata": {},
   "outputs": [],
   "source": [
    "# Adding location to the traces\n",
    "for st in stream:\n",
    "    \n",
    "    # Getting the seed_id to request the specific station location from inventory\n",
    "    seed_id = st.stats.network + \".\" + st.stats.station + \".\" + st.stats.location + \".\" + st.stats.channel\n",
    "    \n",
    "    # Get station coordinates from inventory\n",
    "    temp = inv.get_coordinates(seed_id)\n",
    "    \n",
    "    # Add coordinates to inventory\n",
    "    st.stats.coordinates = {\"latitude\": temp[\"latitude\"],\n",
    "                            \"longitude\": temp[\"longitude\"]}\n",
    "    \n",
    "#     st.stats.coordinates.latitude = temp[\"latitude\"]\n",
    "#     st.stats.coordinates.longitude = temp[\"longitude\"]\n",
    "    \n",
    "    # \n",
    "    #     print(st.stats.coordinates.latitude)\n",
    "    #     print(st.stats.coordinates.longitude)\n",
    " "
   ]
  },
  {
   "cell_type": "code",
   "execution_count": null,
   "metadata": {},
   "outputs": [],
   "source": [
    "print(stream[0].stats.coordinates.latitude)\n"
   ]
  },
  {
   "cell_type": "markdown",
   "metadata": {},
   "source": [
    "After adding the coordinates to the traces, we can plot them:"
   ]
  },
  {
   "cell_type": "code",
   "execution_count": null,
   "metadata": {},
   "outputs": [],
   "source": [
    "print(\"Lat/Lon of first trace\")\n",
    "print(stream[0].stats.coordinates.latitude)\n",
    "print(stream[0].stats.coordinates.longitude)\n",
    "print(\"Lat/Lon of event\")\n",
    "print(event_coordinates[0])\n",
    "print(event_coordinates[1])\n",
    "\n"
   ]
  },
  {
   "cell_type": "code",
   "execution_count": null,
   "metadata": {},
   "outputs": [],
   "source": [
    "%matplotlib notebook\n",
    "stream.plot(ev_coord=event_coordinates,type='section',dist_degree=True)"
   ]
  },
  {
   "cell_type": "code",
   "execution_count": null,
   "metadata": {},
   "outputs": [],
   "source": [
    "print(stream[0].stats)\n"
   ]
  },
  {
   "cell_type": "markdown",
   "metadata": {},
   "source": [
    "## Getting arrival times using the obspy built in TauP package"
   ]
  },
  {
   "cell_type": "code",
   "execution_count": null,
   "metadata": {},
   "outputs": [],
   "source": [
    "from obspy import taup\n",
    "\n",
    "\n",
    "arrivals = model.get_travel_times(source_depth_in_km=55,\n",
    "                                  distance_in_degree=67)"
   ]
  },
  {
   "cell_type": "code",
   "execution_count": null,
   "metadata": {},
   "outputs": [],
   "source": []
  }
 ],
 "metadata": {
  "kernelspec": {
   "display_name": "Python 3",
   "language": "python",
   "name": "python3"
  },
  "language_info": {
   "codemirror_mode": {
    "name": "ipython",
    "version": 3
   },
   "file_extension": ".py",
   "mimetype": "text/x-python",
   "name": "python",
   "nbconvert_exporter": "python",
   "pygments_lexer": "ipython3",
   "version": "3.7.1"
  }
 },
 "nbformat": 4,
 "nbformat_minor": 2
}
